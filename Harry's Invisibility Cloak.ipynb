{
 "cells": [
  {
   "cell_type": "code",
   "execution_count": 1,
   "id": "f95f7a28",
   "metadata": {},
   "outputs": [],
   "source": [
    "import cv2\n",
    "import numpy as np\n",
    "import time"
   ]
  },
  {
   "cell_type": "code",
   "execution_count": 2,
   "id": "b1bd00c8",
   "metadata": {},
   "outputs": [
    {
     "name": "stdout",
     "output_type": "stream",
     "text": [
      "Welcome to World Of becoming Invisible \n",
      "\n",
      "Press \"Esc\", \"q\" or \"Q\" to exit.\n",
      "\n",
      "By : Tajqia Zannat\n",
      "ID: 027120124\n",
      "Course Name: Robot Vision & Sensing Technology\n"
     ]
    }
   ],
   "source": [
    "print(\"Welcome to World Of becoming Invisible \\n\")\n",
    "print('Press \"Esc\", \"q\" or \"Q\" to exit.')\n",
    "print('\\nBy : Tajqia Zannat\\nID: 027120124\\nCourse Name: Robot Vision & Sensing Technology')"
   ]
  },
  {
   "cell_type": "code",
   "execution_count": 3,
   "id": "3cd9f682",
   "metadata": {},
   "outputs": [],
   "source": [
    "cap = cv2.VideoCapture(0)\n",
    "time.sleep(3)\n",
    "background=0\n",
    "\n",
    "for i in range(30):\n",
    "    ret,background = cap.read()\n",
    "\n",
    "background = np.flip(background,axis=1)"
   ]
  },
  {
   "cell_type": "code",
   "execution_count": 4,
   "id": "b7903f60",
   "metadata": {},
   "outputs": [],
   "source": [
    "while(cap.isOpened()):\n",
    "    ret, img = cap.read()\n",
    "    # Flip the image \n",
    "    img = np.flip(img, axis = 1)\n",
    "\n",
    "    # Convert the image to HSV color space.\n",
    "    hsv = cv2.cvtColor(img, cv2.COLOR_BGR2HSV)\n",
    "    blurred = cv2.GaussianBlur(hsv, (35, 35), 0)\n",
    "\n",
    "    # Defining lower range for red color detection.\n",
    "    lower = np.array([0,120,70])\n",
    "    upper = np.array([10,255,255])\n",
    "    mask1 = cv2.inRange(hsv, lower, upper)\n",
    "\n",
    "    # Defining upper range for red color detection\n",
    "    lower_red = np.array([170,120,70])\n",
    "    upper_red = np.array([180,255,255])\n",
    "    mask2 = cv2.inRange(hsv, lower_red, upper_red)\n",
    "\n",
    "    # Addition of the two masks to generate the final mask.\n",
    "    mask = mask1 + mask2\n",
    "    mask = cv2.morphologyEx(mask, cv2.MORPH_OPEN, np.ones((5,5), np.uint8))\n",
    "\n",
    "    # Replacing pixels corresponding to cloak with the background pixels.\n",
    "    img[np.where(mask == 255)] = background[np.where(mask == 255)]\n",
    "    cv2.imshow('Display',img)\n",
    "    k = cv2.waitKey(10)\n",
    "    if k == 27 or k == ord('q') or k == ord('Q'):\n",
    "        break\n"
   ]
  },
  {
   "cell_type": "code",
   "execution_count": 5,
   "id": "049794c3",
   "metadata": {},
   "outputs": [
    {
     "name": "stdout",
     "output_type": "stream",
     "text": [
      "I appreciate you attempting the INVISIBILITY CLOAK and turning invisible.\n",
      "BYE\n"
     ]
    }
   ],
   "source": [
    "import time\n",
    "print('I appreciate you attempting the INVISIBILITY CLOAK and turning invisible.')\n",
    "print('BYE')\n",
    "time.sleep(10)"
   ]
  },
  {
   "cell_type": "code",
   "execution_count": 6,
   "id": "26680857",
   "metadata": {},
   "outputs": [],
   "source": [
    "!jt -t monokai -T -N"
   ]
  },
  {
   "cell_type": "code",
   "execution_count": null,
   "id": "c31d8d93",
   "metadata": {},
   "outputs": [],
   "source": []
  }
 ],
 "metadata": {
  "kernelspec": {
   "display_name": "Python 3 (ipykernel)",
   "language": "python",
   "name": "python3"
  },
  "language_info": {
   "codemirror_mode": {
    "name": "ipython",
    "version": 3
   },
   "file_extension": ".py",
   "mimetype": "text/x-python",
   "name": "python",
   "nbconvert_exporter": "python",
   "pygments_lexer": "ipython3",
   "version": "3.9.5"
  }
 },
 "nbformat": 4,
 "nbformat_minor": 5
}
